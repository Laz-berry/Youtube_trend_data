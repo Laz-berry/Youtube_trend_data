{
 "cells": [
  {
   "cell_type": "code",
   "execution_count": 1,
   "id": "a0a06bcd",
   "metadata": {},
   "outputs": [
    {
     "name": "stdout",
     "output_type": "stream",
     "text": [
      "Defaulting to user installation because normal site-packages is not writeable\n",
      "Requirement already satisfied: contextualized-topic-models==2.2.0 in /home/joon/.local/lib/python3.6/site-packages (2.2.0)\n",
      "Requirement already satisfied: torch>=1.6.0 in /home/joon/.local/lib/python3.6/site-packages (from contextualized-topic-models==2.2.0) (1.10.1)\n",
      "Requirement already satisfied: gensim>=3.8.3 in /home/joon/.local/lib/python3.6/site-packages (from contextualized-topic-models==2.2.0) (4.2.0)\n",
      "Requirement already satisfied: torchvision>=0.7.0 in /home/joon/.local/lib/python3.6/site-packages (from contextualized-topic-models==2.2.0) (0.11.2)\n",
      "Requirement already satisfied: ipywidgets==7.5.1 in /home/joon/.local/lib/python3.6/site-packages (from contextualized-topic-models==2.2.0) (7.5.1)\n",
      "Requirement already satisfied: ipython==7.16.1 in /home/joon/.local/lib/python3.6/site-packages (from contextualized-topic-models==2.2.0) (7.16.1)\n",
      "Requirement already satisfied: wordcloud>=1.8.1 in /home/joon/.local/lib/python3.6/site-packages (from contextualized-topic-models==2.2.0) (1.8.2.2)\n",
      "Requirement already satisfied: numpy>=1.19.1 in /home/joon/.local/lib/python3.6/site-packages (from contextualized-topic-models==2.2.0) (1.19.5)\n",
      "Requirement already satisfied: sentence-transformers>=1.1.1 in /home/joon/.local/lib/python3.6/site-packages (from contextualized-topic-models==2.2.0) (2.2.2)\n",
      "Requirement already satisfied: matplotlib>=3.1.3 in /home/joon/.local/lib/python3.6/site-packages (from contextualized-topic-models==2.2.0) (3.3.4)\n",
      "Requirement already satisfied: tqdm>=4.56.0 in /home/joon/.local/lib/python3.6/site-packages (from contextualized-topic-models==2.2.0) (4.64.1)\n",
      "Requirement already satisfied: scipy>=1.4.1 in /home/joon/.local/lib/python3.6/site-packages (from contextualized-topic-models==2.2.0) (1.5.4)\n",
      "Requirement already satisfied: decorator in /home/joon/.local/lib/python3.6/site-packages (from ipython==7.16.1->contextualized-topic-models==2.2.0) (4.4.2)\n",
      "Requirement already satisfied: prompt-toolkit!=3.0.0,!=3.0.1,<3.1.0,>=2.0.0 in /home/joon/.local/lib/python3.6/site-packages (from ipython==7.16.1->contextualized-topic-models==2.2.0) (3.0.20)\n",
      "Requirement already satisfied: jedi>=0.10 in /home/joon/.local/lib/python3.6/site-packages (from ipython==7.16.1->contextualized-topic-models==2.2.0) (0.18.0)\n",
      "Requirement already satisfied: backcall in /home/joon/.local/lib/python3.6/site-packages (from ipython==7.16.1->contextualized-topic-models==2.2.0) (0.2.0)\n",
      "Requirement already satisfied: pexpect in /usr/lib/python3/dist-packages (from ipython==7.16.1->contextualized-topic-models==2.2.0) (4.2.1)\n",
      "Requirement already satisfied: pickleshare in /home/joon/.local/lib/python3.6/site-packages (from ipython==7.16.1->contextualized-topic-models==2.2.0) (0.7.5)\n",
      "Requirement already satisfied: setuptools>=18.5 in /home/joon/.local/lib/python3.6/site-packages (from ipython==7.16.1->contextualized-topic-models==2.2.0) (58.0.4)\n",
      "Requirement already satisfied: pygments in /home/joon/.local/lib/python3.6/site-packages (from ipython==7.16.1->contextualized-topic-models==2.2.0) (2.10.0)\n",
      "Requirement already satisfied: traitlets>=4.2 in /home/joon/.local/lib/python3.6/site-packages (from ipython==7.16.1->contextualized-topic-models==2.2.0) (4.3.3)\n",
      "Requirement already satisfied: nbformat>=4.2.0 in /home/joon/.local/lib/python3.6/site-packages (from ipywidgets==7.5.1->contextualized-topic-models==2.2.0) (5.1.3)\n",
      "Requirement already satisfied: ipykernel>=4.5.1 in /home/joon/.local/lib/python3.6/site-packages (from ipywidgets==7.5.1->contextualized-topic-models==2.2.0) (5.5.5)\n",
      "Requirement already satisfied: widgetsnbextension~=3.5.0 in /home/joon/.local/lib/python3.6/site-packages (from ipywidgets==7.5.1->contextualized-topic-models==2.2.0) (3.5.1)\n",
      "Requirement already satisfied: smart-open>=1.8.1 in /home/joon/.local/lib/python3.6/site-packages (from gensim>=3.8.3->contextualized-topic-models==2.2.0) (6.3.0)\n",
      "Requirement already satisfied: pillow>=6.2.0 in /home/joon/.local/lib/python3.6/site-packages (from matplotlib>=3.1.3->contextualized-topic-models==2.2.0) (8.3.2)\n",
      "Requirement already satisfied: kiwisolver>=1.0.1 in /home/joon/.local/lib/python3.6/site-packages (from matplotlib>=3.1.3->contextualized-topic-models==2.2.0) (1.3.1)\n",
      "Requirement already satisfied: pyparsing!=2.0.4,!=2.1.2,!=2.1.6,>=2.0.3 in /home/joon/.local/lib/python3.6/site-packages (from matplotlib>=3.1.3->contextualized-topic-models==2.2.0) (2.4.7)\n",
      "Requirement already satisfied: python-dateutil>=2.1 in /home/joon/.local/lib/python3.6/site-packages (from matplotlib>=3.1.3->contextualized-topic-models==2.2.0) (2.8.2)\n",
      "Requirement already satisfied: cycler>=0.10 in /usr/lib/python3/dist-packages (from matplotlib>=3.1.3->contextualized-topic-models==2.2.0) (0.10.0)\n",
      "Requirement already satisfied: scikit-learn in /home/joon/.local/lib/python3.6/site-packages (from sentence-transformers>=1.1.1->contextualized-topic-models==2.2.0) (0.24.2)\n",
      "Requirement already satisfied: transformers<5.0.0,>=4.6.0 in /home/joon/.local/lib/python3.6/site-packages (from sentence-transformers>=1.1.1->contextualized-topic-models==2.2.0) (4.18.0)\n",
      "Requirement already satisfied: nltk in /home/joon/.local/lib/python3.6/site-packages (from sentence-transformers>=1.1.1->contextualized-topic-models==2.2.0) (3.6.7)\n",
      "Requirement already satisfied: huggingface-hub>=0.4.0 in /home/joon/.local/lib/python3.6/site-packages (from sentence-transformers>=1.1.1->contextualized-topic-models==2.2.0) (0.4.0)\n",
      "Requirement already satisfied: sentencepiece in /home/joon/.local/lib/python3.6/site-packages (from sentence-transformers>=1.1.1->contextualized-topic-models==2.2.0) (0.1.97)\n",
      "Requirement already satisfied: typing-extensions in /home/joon/.local/lib/python3.6/site-packages (from torch>=1.6.0->contextualized-topic-models==2.2.0) (3.7.4.3)\n",
      "Requirement already satisfied: dataclasses in /home/joon/.local/lib/python3.6/site-packages (from torch>=1.6.0->contextualized-topic-models==2.2.0) (0.8)\n",
      "Requirement already satisfied: importlib-resources in /home/joon/.local/lib/python3.6/site-packages (from tqdm>=4.56.0->contextualized-topic-models==2.2.0) (5.4.0)\n",
      "Requirement already satisfied: requests in /home/joon/.local/lib/python3.6/site-packages (from huggingface-hub>=0.4.0->sentence-transformers>=1.1.1->contextualized-topic-models==2.2.0) (2.26.0)\n",
      "Requirement already satisfied: filelock in /home/joon/.local/lib/python3.6/site-packages (from huggingface-hub>=0.4.0->sentence-transformers>=1.1.1->contextualized-topic-models==2.2.0) (3.4.1)\n",
      "Requirement already satisfied: pyyaml in /home/joon/.local/lib/python3.6/site-packages (from huggingface-hub>=0.4.0->sentence-transformers>=1.1.1->contextualized-topic-models==2.2.0) (5.4.1)\n",
      "Requirement already satisfied: importlib-metadata in /home/joon/.local/lib/python3.6/site-packages (from huggingface-hub>=0.4.0->sentence-transformers>=1.1.1->contextualized-topic-models==2.2.0) (4.8.1)\n",
      "Requirement already satisfied: packaging>=20.9 in /home/joon/.local/lib/python3.6/site-packages (from huggingface-hub>=0.4.0->sentence-transformers>=1.1.1->contextualized-topic-models==2.2.0) (21.0)\n",
      "Requirement already satisfied: jupyter-client in /home/joon/.local/lib/python3.6/site-packages (from ipykernel>=4.5.1->ipywidgets==7.5.1->contextualized-topic-models==2.2.0) (7.0.2)\n",
      "Requirement already satisfied: tornado>=4.2 in /home/joon/.local/lib/python3.6/site-packages (from ipykernel>=4.5.1->ipywidgets==7.5.1->contextualized-topic-models==2.2.0) (6.1)\n",
      "Requirement already satisfied: parso<0.9.0,>=0.8.0 in /home/joon/.local/lib/python3.6/site-packages (from jedi>=0.10->ipython==7.16.1->contextualized-topic-models==2.2.0) (0.8.2)\n",
      "Requirement already satisfied: jupyter-core in /home/joon/.local/lib/python3.6/site-packages (from nbformat>=4.2.0->ipywidgets==7.5.1->contextualized-topic-models==2.2.0) (4.7.1)\n",
      "Requirement already satisfied: jsonschema!=2.5.0,>=2.4 in /home/joon/.local/lib/python3.6/site-packages (from nbformat>=4.2.0->ipywidgets==7.5.1->contextualized-topic-models==2.2.0) (3.2.0)\n",
      "Requirement already satisfied: ipython-genutils in /home/joon/.local/lib/python3.6/site-packages (from nbformat>=4.2.0->ipywidgets==7.5.1->contextualized-topic-models==2.2.0) (0.2.0)\n",
      "Requirement already satisfied: wcwidth in /home/joon/.local/lib/python3.6/site-packages (from prompt-toolkit!=3.0.0,!=3.0.1,<3.1.0,>=2.0.0->ipython==7.16.1->contextualized-topic-models==2.2.0) (0.2.5)\n",
      "Requirement already satisfied: six>=1.5 in /home/joon/.local/lib/python3.6/site-packages (from python-dateutil>=2.1->matplotlib>=3.1.3->contextualized-topic-models==2.2.0) (1.16.0)\n",
      "Requirement already satisfied: tokenizers!=0.11.3,<0.13,>=0.11.1 in /home/joon/.local/lib/python3.6/site-packages (from transformers<5.0.0,>=4.6.0->sentence-transformers>=1.1.1->contextualized-topic-models==2.2.0) (0.12.1)\n",
      "Requirement already satisfied: regex!=2019.12.17 in /home/joon/.local/lib/python3.6/site-packages (from transformers<5.0.0,>=4.6.0->sentence-transformers>=1.1.1->contextualized-topic-models==2.2.0) (2022.10.31)\n",
      "Requirement already satisfied: sacremoses in /home/joon/.local/lib/python3.6/site-packages (from transformers<5.0.0,>=4.6.0->sentence-transformers>=1.1.1->contextualized-topic-models==2.2.0) (0.0.53)\n",
      "Requirement already satisfied: notebook>=4.4.1 in /home/joon/.local/lib/python3.6/site-packages (from widgetsnbextension~=3.5.0->ipywidgets==7.5.1->contextualized-topic-models==2.2.0) (6.4.3)\n",
      "Requirement already satisfied: zipp>=3.1.0 in /home/joon/.local/lib/python3.6/site-packages (from importlib-resources->tqdm>=4.56.0->contextualized-topic-models==2.2.0) (3.5.0)\n",
      "Requirement already satisfied: joblib in /home/joon/.local/lib/python3.6/site-packages (from nltk->sentence-transformers>=1.1.1->contextualized-topic-models==2.2.0) (1.0.1)\n",
      "Requirement already satisfied: click in /usr/lib/python3/dist-packages (from nltk->sentence-transformers>=1.1.1->contextualized-topic-models==2.2.0) (6.7)\n",
      "Requirement already satisfied: threadpoolctl>=2.0.0 in /home/joon/.local/lib/python3.6/site-packages (from scikit-learn->sentence-transformers>=1.1.1->contextualized-topic-models==2.2.0) (2.2.0)\n",
      "Requirement already satisfied: pyrsistent>=0.14.0 in /home/joon/.local/lib/python3.6/site-packages (from jsonschema!=2.5.0,>=2.4->nbformat>=4.2.0->ipywidgets==7.5.1->contextualized-topic-models==2.2.0) (0.18.0)\n",
      "Requirement already satisfied: attrs>=17.4.0 in /home/joon/.local/lib/python3.6/site-packages (from jsonschema!=2.5.0,>=2.4->nbformat>=4.2.0->ipywidgets==7.5.1->contextualized-topic-models==2.2.0) (21.2.0)\n",
      "Requirement already satisfied: prometheus-client in /home/joon/.local/lib/python3.6/site-packages (from notebook>=4.4.1->widgetsnbextension~=3.5.0->ipywidgets==7.5.1->contextualized-topic-models==2.2.0) (0.11.0)\n",
      "Requirement already satisfied: pyzmq>=17 in /home/joon/.local/lib/python3.6/site-packages (from notebook>=4.4.1->widgetsnbextension~=3.5.0->ipywidgets==7.5.1->contextualized-topic-models==2.2.0) (22.2.1)\n",
      "Requirement already satisfied: terminado>=0.8.3 in /home/joon/.local/lib/python3.6/site-packages (from notebook>=4.4.1->widgetsnbextension~=3.5.0->ipywidgets==7.5.1->contextualized-topic-models==2.2.0) (0.12.1)\n",
      "Requirement already satisfied: nbconvert in /home/joon/.local/lib/python3.6/site-packages (from notebook>=4.4.1->widgetsnbextension~=3.5.0->ipywidgets==7.5.1->contextualized-topic-models==2.2.0) (6.0.7)\n",
      "Requirement already satisfied: Send2Trash>=1.5.0 in /home/joon/.local/lib/python3.6/site-packages (from notebook>=4.4.1->widgetsnbextension~=3.5.0->ipywidgets==7.5.1->contextualized-topic-models==2.2.0) (1.8.0)\n",
      "Requirement already satisfied: argon2-cffi in /home/joon/.local/lib/python3.6/site-packages (from notebook>=4.4.1->widgetsnbextension~=3.5.0->ipywidgets==7.5.1->contextualized-topic-models==2.2.0) (21.1.0)\n",
      "Requirement already satisfied: jinja2 in /home/joon/.local/lib/python3.6/site-packages (from notebook>=4.4.1->widgetsnbextension~=3.5.0->ipywidgets==7.5.1->contextualized-topic-models==2.2.0) (3.0.1)\n",
      "Requirement already satisfied: nest-asyncio>=1.5 in /home/joon/.local/lib/python3.6/site-packages (from jupyter-client->ipykernel>=4.5.1->ipywidgets==7.5.1->contextualized-topic-models==2.2.0) (1.5.1)\n",
      "Requirement already satisfied: entrypoints in /home/joon/.local/lib/python3.6/site-packages (from jupyter-client->ipykernel>=4.5.1->ipywidgets==7.5.1->contextualized-topic-models==2.2.0) (0.3)\n",
      "Requirement already satisfied: charset-normalizer~=2.0.0 in /home/joon/.local/lib/python3.6/site-packages (from requests->huggingface-hub>=0.4.0->sentence-transformers>=1.1.1->contextualized-topic-models==2.2.0) (2.0.4)\n",
      "Requirement already satisfied: certifi>=2017.4.17 in /usr/lib/python3/dist-packages (from requests->huggingface-hub>=0.4.0->sentence-transformers>=1.1.1->contextualized-topic-models==2.2.0) (2018.1.18)\n",
      "Requirement already satisfied: idna<4,>=2.5 in /usr/lib/python3/dist-packages (from requests->huggingface-hub>=0.4.0->sentence-transformers>=1.1.1->contextualized-topic-models==2.2.0) (2.6)\n",
      "Requirement already satisfied: urllib3<1.27,>=1.21.1 in /usr/lib/python3/dist-packages (from requests->huggingface-hub>=0.4.0->sentence-transformers>=1.1.1->contextualized-topic-models==2.2.0) (1.22)\n",
      "Requirement already satisfied: ptyprocess in /home/joon/.local/lib/python3.6/site-packages (from terminado>=0.8.3->notebook>=4.4.1->widgetsnbextension~=3.5.0->ipywidgets==7.5.1->contextualized-topic-models==2.2.0) (0.7.0)\n",
      "Requirement already satisfied: cffi>=1.0.0 in /home/joon/.local/lib/python3.6/site-packages (from argon2-cffi->notebook>=4.4.1->widgetsnbextension~=3.5.0->ipywidgets==7.5.1->contextualized-topic-models==2.2.0) (1.14.6)\n",
      "Requirement already satisfied: MarkupSafe>=2.0 in /home/joon/.local/lib/python3.6/site-packages (from jinja2->notebook>=4.4.1->widgetsnbextension~=3.5.0->ipywidgets==7.5.1->contextualized-topic-models==2.2.0) (2.0.1)\n",
      "Requirement already satisfied: jupyterlab-pygments in /home/joon/.local/lib/python3.6/site-packages (from nbconvert->notebook>=4.4.1->widgetsnbextension~=3.5.0->ipywidgets==7.5.1->contextualized-topic-models==2.2.0) (0.1.2)\n",
      "Requirement already satisfied: nbclient<0.6.0,>=0.5.0 in /home/joon/.local/lib/python3.6/site-packages (from nbconvert->notebook>=4.4.1->widgetsnbextension~=3.5.0->ipywidgets==7.5.1->contextualized-topic-models==2.2.0) (0.5.4)\n",
      "Requirement already satisfied: mistune<2,>=0.8.1 in /home/joon/.local/lib/python3.6/site-packages (from nbconvert->notebook>=4.4.1->widgetsnbextension~=3.5.0->ipywidgets==7.5.1->contextualized-topic-models==2.2.0) (0.8.4)\n",
      "Requirement already satisfied: bleach in /home/joon/.local/lib/python3.6/site-packages (from nbconvert->notebook>=4.4.1->widgetsnbextension~=3.5.0->ipywidgets==7.5.1->contextualized-topic-models==2.2.0) (4.1.0)\n",
      "Requirement already satisfied: defusedxml in /home/joon/.local/lib/python3.6/site-packages (from nbconvert->notebook>=4.4.1->widgetsnbextension~=3.5.0->ipywidgets==7.5.1->contextualized-topic-models==2.2.0) (0.7.1)\n",
      "Requirement already satisfied: pandocfilters>=1.4.1 in /home/joon/.local/lib/python3.6/site-packages (from nbconvert->notebook>=4.4.1->widgetsnbextension~=3.5.0->ipywidgets==7.5.1->contextualized-topic-models==2.2.0) (1.4.3)\n",
      "Requirement already satisfied: testpath in /home/joon/.local/lib/python3.6/site-packages (from nbconvert->notebook>=4.4.1->widgetsnbextension~=3.5.0->ipywidgets==7.5.1->contextualized-topic-models==2.2.0) (0.5.0)\n",
      "Requirement already satisfied: pycparser in /home/joon/.local/lib/python3.6/site-packages (from cffi>=1.0.0->argon2-cffi->notebook>=4.4.1->widgetsnbextension~=3.5.0->ipywidgets==7.5.1->contextualized-topic-models==2.2.0) (2.20)\n",
      "Requirement already satisfied: async-generator in /home/joon/.local/lib/python3.6/site-packages (from nbclient<0.6.0,>=0.5.0->nbconvert->notebook>=4.4.1->widgetsnbextension~=3.5.0->ipywidgets==7.5.1->contextualized-topic-models==2.2.0) (1.10)\n",
      "Requirement already satisfied: webencodings in /home/joon/.local/lib/python3.6/site-packages (from bleach->nbconvert->notebook>=4.4.1->widgetsnbextension~=3.5.0->ipywidgets==7.5.1->contextualized-topic-models==2.2.0) (0.5.1)\n",
      "Defaulting to user installation because normal site-packages is not writeable\n",
      "Requirement already satisfied: pyldavis in /home/joon/.local/lib/python3.6/site-packages (3.2.2)\n",
      "Requirement already satisfied: numexpr in /usr/lib/python3/dist-packages (from pyldavis) (2.6.4)\n",
      "Requirement already satisfied: funcy in /home/joon/.local/lib/python3.6/site-packages (from pyldavis) (2.0)\n",
      "Requirement already satisfied: numpy>=1.9.2 in /home/joon/.local/lib/python3.6/site-packages (from pyldavis) (1.19.5)\n",
      "Requirement already satisfied: joblib>=0.8.4 in /home/joon/.local/lib/python3.6/site-packages (from pyldavis) (1.0.1)\n",
      "Requirement already satisfied: pandas>=0.17.0 in /home/joon/.local/lib/python3.6/site-packages (from pyldavis) (1.1.5)\n",
      "Requirement already satisfied: scipy>=0.18.0 in /home/joon/.local/lib/python3.6/site-packages (from pyldavis) (1.5.4)\n",
      "Requirement already satisfied: jinja2>=2.7.2 in /home/joon/.local/lib/python3.6/site-packages (from pyldavis) (3.0.1)\n",
      "Requirement already satisfied: future in /usr/lib/python3/dist-packages (from pyldavis) (0.15.2)\n",
      "Requirement already satisfied: wheel>=0.23.0 in /home/joon/.local/lib/python3.6/site-packages (from pyldavis) (0.37.0)\n",
      "Requirement already satisfied: MarkupSafe>=2.0 in /home/joon/.local/lib/python3.6/site-packages (from jinja2>=2.7.2->pyldavis) (2.0.1)\n",
      "Requirement already satisfied: python-dateutil>=2.7.3 in /home/joon/.local/lib/python3.6/site-packages (from pandas>=0.17.0->pyldavis) (2.8.2)\n",
      "Requirement already satisfied: pytz>=2017.2 in /usr/lib/python3/dist-packages (from pandas>=0.17.0->pyldavis) (2018.3)\n",
      "Requirement already satisfied: six>=1.5 in /home/joon/.local/lib/python3.6/site-packages (from python-dateutil>=2.7.3->pandas>=0.17.0->pyldavis) (1.16.0)\n"
     ]
    }
   ],
   "source": [
    "!pip install contextualized-topic-models==2.2.0\n",
    "!pip install pyldavis"
   ]
  },
  {
   "cell_type": "code",
   "execution_count": 2,
   "id": "1aee56da",
   "metadata": {},
   "outputs": [
    {
     "name": "stdout",
     "output_type": "stream",
     "text": [
      "--2023-04-30 20:36:05--  https://raw.githubusercontent.com/vinid/data/master/dbpedia_sample_abstract_20k_unprep.txt\n",
      "Resolving raw.githubusercontent.com (raw.githubusercontent.com)... 185.199.109.133, 185.199.110.133, 185.199.111.133, ...\n",
      "Connecting to raw.githubusercontent.com (raw.githubusercontent.com)|185.199.109.133|:443... connected.\n",
      "HTTP request sent, awaiting response... 200 OK\n",
      "Length: 6208417 (5.9M) [text/plain]\n",
      "Saving to: ‘dbpedia_sample_abstract_20k_unprep.txt.1’\n",
      "\n",
      "dbpedia_sample_abst 100%[===================>]   5.92M  32.2MB/s    in 0.2s    \n",
      "\n",
      "2023-04-30 20:36:06 (32.2 MB/s) - ‘dbpedia_sample_abstract_20k_unprep.txt.1’ saved [6208417/6208417]\n",
      "\n"
     ]
    }
   ],
   "source": [
    "!wget https://raw.githubusercontent.com/vinid/data/master/dbpedia_sample_abstract_20k_unprep.txt"
   ]
  },
  {
   "cell_type": "code",
   "execution_count": 3,
   "id": "f4c8eafd",
   "metadata": {},
   "outputs": [
    {
     "name": "stdout",
     "output_type": "stream",
     "text": [
      "The Mid-Peninsula Highway is a proposed freeway across the Niagara Peninsula in the Canadian province of Ontario. Although plans for a highway connecting Hamilton to Fort Erie south of the Niagara Escarpment have surfaced for decades,it was not until The Niagara Frontier International Gateway Study was published by the Ministry\n",
      "Monte Zucker (died March 15, 2007) was an American photographer. He specialized in wedding photography, entering it as a profession in 1947. In the 1970s he operated a studio in Silver Spring, Maryland. Later he lived in Florida. He was Brides Magazine's Wedding Photographer of the Year for 1990 and\n",
      "Henry Howard, 13th Earl of Suffolk, 6th Earl of Berkshire (8 August 1779 – 10 August 1779) was a British peer, the son of Henry Howard, 12th Earl of Suffolk. His father died on 7 March 1779, leaving behind his pregnant widow. The Earldom of Suffolk became dormant until she\n"
     ]
    }
   ],
   "source": [
    "!head -n 3 dbpedia_sample_abstract_20k_unprep.txt"
   ]
  },
  {
   "cell_type": "code",
   "execution_count": 4,
   "id": "cb26567b",
   "metadata": {},
   "outputs": [],
   "source": [
    "text_file = \"dbpedia_sample_abstract_20k_unprep.txt\""
   ]
  },
  {
   "cell_type": "code",
   "execution_count": 5,
   "id": "dc39e078",
   "metadata": {},
   "outputs": [],
   "source": [
    "from contextualized_topic_models.models.ctm import CombinedTM\n",
    "from contextualized_topic_models.utils.data_preparation import TopicModelDataPreparation\n",
    "from contextualized_topic_models.utils.preprocessing import WhiteSpacePreprocessing\n",
    "import nltk"
   ]
  },
  {
   "cell_type": "code",
   "execution_count": 6,
   "id": "7e0c6617",
   "metadata": {},
   "outputs": [
    {
     "name": "stderr",
     "output_type": "stream",
     "text": [
      "[nltk_data] Downloading package stopwords to /home/joon/nltk_data...\n",
      "[nltk_data]   Package stopwords is already up-to-date!\n"
     ]
    }
   ],
   "source": [
    "nltk.download('stopwords')\n",
    "\n",
    "documents = [line.strip() for line in open(text_file, encoding=\"utf-8\").readlines()]\n",
    "sp = WhiteSpacePreprocessing(documents, stopwords_language='english')\n",
    "preprocessed_documents, unpreprocessed_corpus, vocab = sp.preprocess()"
   ]
  },
  {
   "cell_type": "code",
   "execution_count": 7,
   "id": "69dfe6b4",
   "metadata": {},
   "outputs": [
    {
     "data": {
      "text/plain": [
       "['The Mid-Peninsula Highway is a proposed freeway across the Niagara Peninsula in the Canadian province of Ontario. Although plans for a highway connecting Hamilton to Fort Erie south of the Niagara Escarpment have surfaced for decades,it was not until The Niagara Frontier International Gateway Study was published by the Ministry',\n",
       " \"Monte Zucker (died March 15, 2007) was an American photographer. He specialized in wedding photography, entering it as a profession in 1947. In the 1970s he operated a studio in Silver Spring, Maryland. Later he lived in Florida. He was Brides Magazine's Wedding Photographer of the Year for 1990 and\"]"
      ]
     },
     "execution_count": 7,
     "metadata": {},
     "output_type": "execute_result"
    }
   ],
   "source": [
    "# 전처리 전 문서\n",
    "unpreprocessed_corpus[:2]"
   ]
  },
  {
   "cell_type": "code",
   "execution_count": 8,
   "id": "c2e64fac",
   "metadata": {},
   "outputs": [
    {
     "data": {
      "text/plain": [
       "['mid peninsula highway proposed across peninsula canadian province ontario although highway connecting hamilton fort south international study published ministry',\n",
       " 'died march american photographer specialized photography operated studio silver spring maryland later lived florida magazine photographer year']"
      ]
     },
     "execution_count": 8,
     "metadata": {},
     "output_type": "execute_result"
    }
   ],
   "source": [
    "# normalization 전처리 후 문서\n",
    "preprocessed_documents[:2]"
   ]
  },
  {
   "cell_type": "code",
   "execution_count": 9,
   "id": "c247350b",
   "metadata": {},
   "outputs": [
    {
     "name": "stdout",
     "output_type": "stream",
     "text": [
      "bag of words에 사용 될 단어 집합의 크기 : 2000\n"
     ]
    }
   ],
   "source": [
    "# 전체 단어 집합의 크기\n",
    "print('bag of words에 사용 될 단어 집합의 크기 :',len(vocab))"
   ]
  },
  {
   "cell_type": "code",
   "execution_count": null,
   "id": "5f455cc7",
   "metadata": {},
   "outputs": [
    {
     "data": {
      "application/vnd.jupyter.widget-view+json": {
       "model_id": "2a3d334b7a304c83aee104c040548eb3",
       "version_major": 2,
       "version_minor": 0
      },
      "text/plain": [
       "Batches:   0%|          | 0/100 [00:00<?, ?it/s]"
      ]
     },
     "metadata": {},
     "output_type": "display_data"
    }
   ],
   "source": [
    "tp = TopicModelDataPreparation(\"paraphrase-distilroberta-base-v1\")\n",
    "training_dataset = tp.fit(text_for_contextual=unpreprocessed_corpus, text_for_bow=preprocessed_documents)"
   ]
  },
  {
   "cell_type": "code",
   "execution_count": null,
   "id": "984f9e65",
   "metadata": {},
   "outputs": [],
   "source": [
    "len(tp.vocab)"
   ]
  },
  {
   "cell_type": "code",
   "execution_count": null,
   "id": "6c9f4073",
   "metadata": {},
   "outputs": [],
   "source": [
    "# CTM학습하기 \n",
    "ctm = CombinedTM(bow_size=len(tp.vocab), contextual_size=768, n_components=50, num_epochs=20)\n",
    "ctm.fit(training_dataset)"
   ]
  },
  {
   "cell_type": "code",
   "execution_count": null,
   "id": "e11d4231",
   "metadata": {},
   "outputs": [],
   "source": [
    "# 결과 출력\n",
    "ctm.get_topic_lists(5)"
   ]
  },
  {
   "cell_type": "code",
   "execution_count": null,
   "id": "78a3d68b",
   "metadata": {},
   "outputs": [],
   "source": [
    "# 시각화\n",
    "lda_vis_data = ctm.get_ldavis_data_format(tp.vocab, training_dataset, n_samples=10)"
   ]
  },
  {
   "cell_type": "code",
   "execution_count": null,
   "id": "c90a3dd1",
   "metadata": {},
   "outputs": [],
   "source": [
    "import pyLDAvis as vis\n",
    "\n",
    "lda_vis_data = ctm.get_ldavis_data_format(tp.vocab, training_dataset, n_samples=10)\n",
    "\n",
    "ctm_pd = vis.prepare(**lda_vis_data)\n",
    "vis.display(ctm_pd)"
   ]
  },
  {
   "cell_type": "code",
   "execution_count": null,
   "id": "7bff400a",
   "metadata": {},
   "outputs": [],
   "source": [
    "# 예측\n",
    "import numpy as np\n",
    "\n",
    "topics_predictions = ctm.get_thetas(training_dataset, n_samples=5) # get all the topic predictions"
   ]
  },
  {
   "cell_type": "code",
   "execution_count": null,
   "id": "070cf13a",
   "metadata": {},
   "outputs": [],
   "source": [
    "# 전처리 문서의 첫번째 문서\n",
    "print(preprocessed_documents[0])"
   ]
  },
  {
   "cell_type": "code",
   "execution_count": null,
   "id": "0bb1a793",
   "metadata": {},
   "outputs": [],
   "source": [
    "# 모델 저장 및 로드\n",
    "ctm.save(models_dir=\"./\")"
   ]
  },
  {
   "cell_type": "code",
   "execution_count": null,
   "id": "d66231e7",
   "metadata": {},
   "outputs": [],
   "source": [
    "del ctm"
   ]
  },
  {
   "cell_type": "code",
   "execution_count": null,
   "id": "ba6fb1ed",
   "metadata": {},
   "outputs": [],
   "source": [
    "ctm = CombinedTM(bow_size=len(tp.vocab), contextual_size=768, num_epochs=100, n_components=50)\n",
    "\n",
    "ctm.load(\"/content/contextualized_topic_model_nc_50_tpm_0.0_tpv_0.98_hs_prodLDA_ac_(100, 100)_do_softplus_lr_0.2_mo_0.002_rp_0.99\",\n",
    "                                                                                                      epoch=19)"
   ]
  },
  {
   "cell_type": "code",
   "execution_count": null,
   "id": "55a5f6c3",
   "metadata": {},
   "outputs": [],
   "source": [
    "ctm.get_topic_lists(5)"
   ]
  }
 ],
 "metadata": {
  "kernelspec": {
   "display_name": "Python 3 (ipykernel)",
   "language": "python",
   "name": "python3"
  },
  "language_info": {
   "codemirror_mode": {
    "name": "ipython",
    "version": 3
   },
   "file_extension": ".py",
   "mimetype": "text/x-python",
   "name": "python",
   "nbconvert_exporter": "python",
   "pygments_lexer": "ipython3",
   "version": "3.10.6"
  }
 },
 "nbformat": 4,
 "nbformat_minor": 5
}
