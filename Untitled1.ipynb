{
 "cells": [
  {
   "cell_type": "code",
   "execution_count": null,
   "id": "ddaee5a0-ed47-4f6c-a9e1-6ba5ae5ab6cd",
   "metadata": {},
   "outputs": [],
   "source": [
    "import pandas as pd\n",
    "import numpy as np\n",
    "\n",
    "df = pd.read_csv(\"KR_youtube_trending_data.csv\")\n",
    "\n",
    "# 같은 날짜의 중복된 영상을 찾아서 제거, 고유한 video_id를 subset으로 설정, \n",
    "# 마지막 값을 남김(좋아요, 코멘트가 많음)\n",
    "df['trending_date'].value_counts()\n",
    "\n",
    "# 약 3700개의 중복 데이터 존재\n",
    "df = df.drop_duplicates(subset=['trending_date', 'video_id'], keep='last')\n",
    "\n",
    "# tags가 없으면 제목을 tag로 변경\n",
    "df['tags'] = np.where(df['tags'] == '[None]', df['title'], df['tags'])\n",
    "\n",
    "# Trend_data.csv파일로 저장\n",
    "df.to_csv('Trend_data.csv', index=0)"
   ]
  }
 ],
 "metadata": {
  "kernelspec": {
   "display_name": "Python 3 (ipykernel)",
   "language": "python",
   "name": "python3"
  },
  "language_info": {
   "codemirror_mode": {
    "name": "ipython",
    "version": 3
   },
   "file_extension": ".py",
   "mimetype": "text/x-python",
   "name": "python",
   "nbconvert_exporter": "python",
   "pygments_lexer": "ipython3",
   "version": "3.10.6"
  }
 },
 "nbformat": 4,
 "nbformat_minor": 5
}
