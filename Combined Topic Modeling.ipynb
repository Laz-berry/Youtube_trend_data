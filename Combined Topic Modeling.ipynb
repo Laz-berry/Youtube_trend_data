{
 "cells": [
  {
   "cell_type": "code",
   "execution_count": 1,
   "id": "c7a49ca3",
   "metadata": {},
   "outputs": [
    {
     "name": "stdout",
     "output_type": "stream",
     "text": [
      "NanumGothic\n"
     ]
    }
   ],
   "source": [
    "import matplotlib.font_manager as fm\n",
    "import matplotlib.pyplot as plt\n",
    "\n",
    "path = '/home/joon/Documents/.font/NanumGothic.ttf'\n",
    "font_name = fm.FontProperties(fname=path, size=14).get_name()\n",
    "print(font_name)\n",
    "plt.rc('font', family=font_name)"
   ]
  },
  {
   "cell_type": "code",
   "execution_count": 2,
   "id": "2bddd112",
   "metadata": {},
   "outputs": [
    {
     "name": "stdout",
     "output_type": "stream",
     "text": [
      "Defaulting to user installation because normal site-packages is not writeable\n",
      "Requirement already satisfied: contextualized-topic-models==2.2.0 in /home/joon/.local/lib/python3.6/site-packages (2.2.0)\n",
      "Requirement already satisfied: ipywidgets==7.5.1 in /home/joon/.local/lib/python3.6/site-packages (from contextualized-topic-models==2.2.0) (7.5.1)\n",
      "Requirement already satisfied: ipython==7.16.1 in /home/joon/.local/lib/python3.6/site-packages (from contextualized-topic-models==2.2.0) (7.16.1)\n",
      "Requirement already satisfied: numpy>=1.19.1 in /home/joon/.local/lib/python3.6/site-packages (from contextualized-topic-models==2.2.0) (1.19.5)\n",
      "Requirement already satisfied: gensim>=3.8.3 in /home/joon/.local/lib/python3.6/site-packages (from contextualized-topic-models==2.2.0) (4.2.0)\n",
      "Requirement already satisfied: scipy>=1.4.1 in /home/joon/.local/lib/python3.6/site-packages (from contextualized-topic-models==2.2.0) (1.5.4)\n",
      "Requirement already satisfied: torch>=1.6.0 in /home/joon/.local/lib/python3.6/site-packages (from contextualized-topic-models==2.2.0) (1.10.1)\n",
      "Requirement already satisfied: sentence-transformers>=1.1.1 in /home/joon/.local/lib/python3.6/site-packages (from contextualized-topic-models==2.2.0) (2.2.2)\n",
      "Requirement already satisfied: wordcloud>=1.8.1 in /home/joon/.local/lib/python3.6/site-packages (from contextualized-topic-models==2.2.0) (1.8.2.2)\n",
      "Requirement already satisfied: matplotlib>=3.1.3 in /home/joon/.local/lib/python3.6/site-packages (from contextualized-topic-models==2.2.0) (3.3.4)\n",
      "Requirement already satisfied: tqdm>=4.56.0 in /home/joon/.local/lib/python3.6/site-packages (from contextualized-topic-models==2.2.0) (4.64.1)\n",
      "Requirement already satisfied: torchvision>=0.7.0 in /home/joon/.local/lib/python3.6/site-packages (from contextualized-topic-models==2.2.0) (0.11.2)\n",
      "Requirement already satisfied: traitlets>=4.2 in /home/joon/.local/lib/python3.6/site-packages (from ipython==7.16.1->contextualized-topic-models==2.2.0) (4.3.3)\n",
      "Requirement already satisfied: pickleshare in /home/joon/.local/lib/python3.6/site-packages (from ipython==7.16.1->contextualized-topic-models==2.2.0) (0.7.5)\n",
      "Requirement already satisfied: prompt-toolkit!=3.0.0,!=3.0.1,<3.1.0,>=2.0.0 in /home/joon/.local/lib/python3.6/site-packages (from ipython==7.16.1->contextualized-topic-models==2.2.0) (3.0.20)\n",
      "Requirement already satisfied: jedi>=0.10 in /home/joon/.local/lib/python3.6/site-packages (from ipython==7.16.1->contextualized-topic-models==2.2.0) (0.18.0)\n",
      "Requirement already satisfied: backcall in /home/joon/.local/lib/python3.6/site-packages (from ipython==7.16.1->contextualized-topic-models==2.2.0) (0.2.0)\n",
      "Requirement already satisfied: setuptools>=18.5 in /home/joon/.local/lib/python3.6/site-packages (from ipython==7.16.1->contextualized-topic-models==2.2.0) (58.0.4)\n",
      "Requirement already satisfied: decorator in /home/joon/.local/lib/python3.6/site-packages (from ipython==7.16.1->contextualized-topic-models==2.2.0) (4.4.2)\n",
      "Requirement already satisfied: pexpect in /usr/lib/python3/dist-packages (from ipython==7.16.1->contextualized-topic-models==2.2.0) (4.2.1)\n",
      "Requirement already satisfied: pygments in /home/joon/.local/lib/python3.6/site-packages (from ipython==7.16.1->contextualized-topic-models==2.2.0) (2.10.0)\n",
      "Requirement already satisfied: nbformat>=4.2.0 in /home/joon/.local/lib/python3.6/site-packages (from ipywidgets==7.5.1->contextualized-topic-models==2.2.0) (5.1.3)\n",
      "Requirement already satisfied: widgetsnbextension~=3.5.0 in /home/joon/.local/lib/python3.6/site-packages (from ipywidgets==7.5.1->contextualized-topic-models==2.2.0) (3.5.1)\n",
      "Requirement already satisfied: ipykernel>=4.5.1 in /home/joon/.local/lib/python3.6/site-packages (from ipywidgets==7.5.1->contextualized-topic-models==2.2.0) (5.5.5)\n",
      "Requirement already satisfied: smart-open>=1.8.1 in /home/joon/.local/lib/python3.6/site-packages (from gensim>=3.8.3->contextualized-topic-models==2.2.0) (6.3.0)\n",
      "Requirement already satisfied: python-dateutil>=2.1 in /home/joon/.local/lib/python3.6/site-packages (from matplotlib>=3.1.3->contextualized-topic-models==2.2.0) (2.8.2)\n",
      "Requirement already satisfied: pyparsing!=2.0.4,!=2.1.2,!=2.1.6,>=2.0.3 in /home/joon/.local/lib/python3.6/site-packages (from matplotlib>=3.1.3->contextualized-topic-models==2.2.0) (2.4.7)\n",
      "Requirement already satisfied: kiwisolver>=1.0.1 in /home/joon/.local/lib/python3.6/site-packages (from matplotlib>=3.1.3->contextualized-topic-models==2.2.0) (1.3.1)\n",
      "Requirement already satisfied: pillow>=6.2.0 in /home/joon/.local/lib/python3.6/site-packages (from matplotlib>=3.1.3->contextualized-topic-models==2.2.0) (8.3.2)\n",
      "Requirement already satisfied: cycler>=0.10 in /usr/lib/python3/dist-packages (from matplotlib>=3.1.3->contextualized-topic-models==2.2.0) (0.10.0)\n",
      "Requirement already satisfied: scikit-learn in /home/joon/.local/lib/python3.6/site-packages (from sentence-transformers>=1.1.1->contextualized-topic-models==2.2.0) (0.24.2)\n",
      "Requirement already satisfied: huggingface-hub>=0.4.0 in /home/joon/.local/lib/python3.6/site-packages (from sentence-transformers>=1.1.1->contextualized-topic-models==2.2.0) (0.4.0)\n",
      "Requirement already satisfied: sentencepiece in /home/joon/.local/lib/python3.6/site-packages (from sentence-transformers>=1.1.1->contextualized-topic-models==2.2.0) (0.1.97)\n",
      "Requirement already satisfied: nltk in /home/joon/.local/lib/python3.6/site-packages (from sentence-transformers>=1.1.1->contextualized-topic-models==2.2.0) (3.6.7)\n",
      "Requirement already satisfied: transformers<5.0.0,>=4.6.0 in /home/joon/.local/lib/python3.6/site-packages (from sentence-transformers>=1.1.1->contextualized-topic-models==2.2.0) (4.18.0)\n",
      "Requirement already satisfied: dataclasses in /home/joon/.local/lib/python3.6/site-packages (from torch>=1.6.0->contextualized-topic-models==2.2.0) (0.8)\n",
      "Requirement already satisfied: typing-extensions in /home/joon/.local/lib/python3.6/site-packages (from torch>=1.6.0->contextualized-topic-models==2.2.0) (3.7.4.3)\n",
      "Requirement already satisfied: importlib-resources in /home/joon/.local/lib/python3.6/site-packages (from tqdm>=4.56.0->contextualized-topic-models==2.2.0) (5.4.0)\n",
      "Requirement already satisfied: requests in /home/joon/.local/lib/python3.6/site-packages (from huggingface-hub>=0.4.0->sentence-transformers>=1.1.1->contextualized-topic-models==2.2.0) (2.26.0)\n",
      "Requirement already satisfied: packaging>=20.9 in /home/joon/.local/lib/python3.6/site-packages (from huggingface-hub>=0.4.0->sentence-transformers>=1.1.1->contextualized-topic-models==2.2.0) (21.0)\n",
      "Requirement already satisfied: pyyaml in /home/joon/.local/lib/python3.6/site-packages (from huggingface-hub>=0.4.0->sentence-transformers>=1.1.1->contextualized-topic-models==2.2.0) (5.4.1)\n",
      "Requirement already satisfied: filelock in /home/joon/.local/lib/python3.6/site-packages (from huggingface-hub>=0.4.0->sentence-transformers>=1.1.1->contextualized-topic-models==2.2.0) (3.4.1)\n",
      "Requirement already satisfied: importlib-metadata in /home/joon/.local/lib/python3.6/site-packages (from huggingface-hub>=0.4.0->sentence-transformers>=1.1.1->contextualized-topic-models==2.2.0) (4.8.1)\n",
      "Requirement already satisfied: jupyter-client in /home/joon/.local/lib/python3.6/site-packages (from ipykernel>=4.5.1->ipywidgets==7.5.1->contextualized-topic-models==2.2.0) (7.0.2)\n",
      "Requirement already satisfied: tornado>=4.2 in /home/joon/.local/lib/python3.6/site-packages (from ipykernel>=4.5.1->ipywidgets==7.5.1->contextualized-topic-models==2.2.0) (6.1)\n",
      "Requirement already satisfied: parso<0.9.0,>=0.8.0 in /home/joon/.local/lib/python3.6/site-packages (from jedi>=0.10->ipython==7.16.1->contextualized-topic-models==2.2.0) (0.8.2)\n",
      "Requirement already satisfied: jsonschema!=2.5.0,>=2.4 in /home/joon/.local/lib/python3.6/site-packages (from nbformat>=4.2.0->ipywidgets==7.5.1->contextualized-topic-models==2.2.0) (3.2.0)\n",
      "Requirement already satisfied: jupyter-core in /home/joon/.local/lib/python3.6/site-packages (from nbformat>=4.2.0->ipywidgets==7.5.1->contextualized-topic-models==2.2.0) (4.7.1)\n",
      "Requirement already satisfied: ipython-genutils in /home/joon/.local/lib/python3.6/site-packages (from nbformat>=4.2.0->ipywidgets==7.5.1->contextualized-topic-models==2.2.0) (0.2.0)\n"
     ]
    },
    {
     "name": "stdout",
     "output_type": "stream",
     "text": [
      "Requirement already satisfied: wcwidth in /home/joon/.local/lib/python3.6/site-packages (from prompt-toolkit!=3.0.0,!=3.0.1,<3.1.0,>=2.0.0->ipython==7.16.1->contextualized-topic-models==2.2.0) (0.2.5)\n",
      "Requirement already satisfied: six>=1.5 in /home/joon/.local/lib/python3.6/site-packages (from python-dateutil>=2.1->matplotlib>=3.1.3->contextualized-topic-models==2.2.0) (1.16.0)\n",
      "Requirement already satisfied: sacremoses in /home/joon/.local/lib/python3.6/site-packages (from transformers<5.0.0,>=4.6.0->sentence-transformers>=1.1.1->contextualized-topic-models==2.2.0) (0.0.53)\n",
      "Requirement already satisfied: regex!=2019.12.17 in /home/joon/.local/lib/python3.6/site-packages (from transformers<5.0.0,>=4.6.0->sentence-transformers>=1.1.1->contextualized-topic-models==2.2.0) (2022.10.31)\n",
      "Requirement already satisfied: tokenizers!=0.11.3,<0.13,>=0.11.1 in /home/joon/.local/lib/python3.6/site-packages (from transformers<5.0.0,>=4.6.0->sentence-transformers>=1.1.1->contextualized-topic-models==2.2.0) (0.12.1)\n",
      "Requirement already satisfied: notebook>=4.4.1 in /home/joon/.local/lib/python3.6/site-packages (from widgetsnbextension~=3.5.0->ipywidgets==7.5.1->contextualized-topic-models==2.2.0) (6.4.3)\n",
      "Requirement already satisfied: zipp>=3.1.0 in /home/joon/.local/lib/python3.6/site-packages (from importlib-resources->tqdm>=4.56.0->contextualized-topic-models==2.2.0) (3.5.0)\n",
      "Requirement already satisfied: joblib in /home/joon/.local/lib/python3.6/site-packages (from nltk->sentence-transformers>=1.1.1->contextualized-topic-models==2.2.0) (1.0.1)\n",
      "Requirement already satisfied: click in /usr/lib/python3/dist-packages (from nltk->sentence-transformers>=1.1.1->contextualized-topic-models==2.2.0) (6.7)\n",
      "Requirement already satisfied: threadpoolctl>=2.0.0 in /home/joon/.local/lib/python3.6/site-packages (from scikit-learn->sentence-transformers>=1.1.1->contextualized-topic-models==2.2.0) (2.2.0)\n",
      "Requirement already satisfied: pyrsistent>=0.14.0 in /home/joon/.local/lib/python3.6/site-packages (from jsonschema!=2.5.0,>=2.4->nbformat>=4.2.0->ipywidgets==7.5.1->contextualized-topic-models==2.2.0) (0.18.0)\n",
      "Requirement already satisfied: attrs>=17.4.0 in /home/joon/.local/lib/python3.6/site-packages (from jsonschema!=2.5.0,>=2.4->nbformat>=4.2.0->ipywidgets==7.5.1->contextualized-topic-models==2.2.0) (21.2.0)\n",
      "Requirement already satisfied: pyzmq>=17 in /home/joon/.local/lib/python3.6/site-packages (from notebook>=4.4.1->widgetsnbextension~=3.5.0->ipywidgets==7.5.1->contextualized-topic-models==2.2.0) (22.2.1)\n",
      "Requirement already satisfied: nbconvert in /home/joon/.local/lib/python3.6/site-packages (from notebook>=4.4.1->widgetsnbextension~=3.5.0->ipywidgets==7.5.1->contextualized-topic-models==2.2.0) (6.0.7)\n",
      "Requirement already satisfied: Send2Trash>=1.5.0 in /home/joon/.local/lib/python3.6/site-packages (from notebook>=4.4.1->widgetsnbextension~=3.5.0->ipywidgets==7.5.1->contextualized-topic-models==2.2.0) (1.8.0)\n",
      "Requirement already satisfied: prometheus-client in /home/joon/.local/lib/python3.6/site-packages (from notebook>=4.4.1->widgetsnbextension~=3.5.0->ipywidgets==7.5.1->contextualized-topic-models==2.2.0) (0.11.0)\n",
      "Requirement already satisfied: argon2-cffi in /home/joon/.local/lib/python3.6/site-packages (from notebook>=4.4.1->widgetsnbextension~=3.5.0->ipywidgets==7.5.1->contextualized-topic-models==2.2.0) (21.1.0)\n",
      "Requirement already satisfied: jinja2 in /home/joon/.local/lib/python3.6/site-packages (from notebook>=4.4.1->widgetsnbextension~=3.5.0->ipywidgets==7.5.1->contextualized-topic-models==2.2.0) (3.0.1)\n",
      "Requirement already satisfied: terminado>=0.8.3 in /home/joon/.local/lib/python3.6/site-packages (from notebook>=4.4.1->widgetsnbextension~=3.5.0->ipywidgets==7.5.1->contextualized-topic-models==2.2.0) (0.12.1)\n",
      "Requirement already satisfied: nest-asyncio>=1.5 in /home/joon/.local/lib/python3.6/site-packages (from jupyter-client->ipykernel>=4.5.1->ipywidgets==7.5.1->contextualized-topic-models==2.2.0) (1.5.1)\n",
      "Requirement already satisfied: entrypoints in /home/joon/.local/lib/python3.6/site-packages (from jupyter-client->ipykernel>=4.5.1->ipywidgets==7.5.1->contextualized-topic-models==2.2.0) (0.3)\n",
      "Requirement already satisfied: certifi>=2017.4.17 in /usr/lib/python3/dist-packages (from requests->huggingface-hub>=0.4.0->sentence-transformers>=1.1.1->contextualized-topic-models==2.2.0) (2018.1.18)\n",
      "Requirement already satisfied: idna<4,>=2.5 in /usr/lib/python3/dist-packages (from requests->huggingface-hub>=0.4.0->sentence-transformers>=1.1.1->contextualized-topic-models==2.2.0) (2.6)\n",
      "Requirement already satisfied: charset-normalizer~=2.0.0 in /home/joon/.local/lib/python3.6/site-packages (from requests->huggingface-hub>=0.4.0->sentence-transformers>=1.1.1->contextualized-topic-models==2.2.0) (2.0.4)\n",
      "Requirement already satisfied: urllib3<1.27,>=1.21.1 in /usr/lib/python3/dist-packages (from requests->huggingface-hub>=0.4.0->sentence-transformers>=1.1.1->contextualized-topic-models==2.2.0) (1.22)\n",
      "Requirement already satisfied: ptyprocess in /home/joon/.local/lib/python3.6/site-packages (from terminado>=0.8.3->notebook>=4.4.1->widgetsnbextension~=3.5.0->ipywidgets==7.5.1->contextualized-topic-models==2.2.0) (0.7.0)\n",
      "Requirement already satisfied: cffi>=1.0.0 in /home/joon/.local/lib/python3.6/site-packages (from argon2-cffi->notebook>=4.4.1->widgetsnbextension~=3.5.0->ipywidgets==7.5.1->contextualized-topic-models==2.2.0) (1.14.6)\n",
      "Requirement already satisfied: MarkupSafe>=2.0 in /home/joon/.local/lib/python3.6/site-packages (from jinja2->notebook>=4.4.1->widgetsnbextension~=3.5.0->ipywidgets==7.5.1->contextualized-topic-models==2.2.0) (2.0.1)\n",
      "Requirement already satisfied: bleach in /home/joon/.local/lib/python3.6/site-packages (from nbconvert->notebook>=4.4.1->widgetsnbextension~=3.5.0->ipywidgets==7.5.1->contextualized-topic-models==2.2.0) (4.1.0)\n",
      "Requirement already satisfied: defusedxml in /home/joon/.local/lib/python3.6/site-packages (from nbconvert->notebook>=4.4.1->widgetsnbextension~=3.5.0->ipywidgets==7.5.1->contextualized-topic-models==2.2.0) (0.7.1)\n",
      "Requirement already satisfied: pandocfilters>=1.4.1 in /home/joon/.local/lib/python3.6/site-packages (from nbconvert->notebook>=4.4.1->widgetsnbextension~=3.5.0->ipywidgets==7.5.1->contextualized-topic-models==2.2.0) (1.4.3)\n",
      "Requirement already satisfied: jupyterlab-pygments in /home/joon/.local/lib/python3.6/site-packages (from nbconvert->notebook>=4.4.1->widgetsnbextension~=3.5.0->ipywidgets==7.5.1->contextualized-topic-models==2.2.0) (0.1.2)\n",
      "Requirement already satisfied: nbclient<0.6.0,>=0.5.0 in /home/joon/.local/lib/python3.6/site-packages (from nbconvert->notebook>=4.4.1->widgetsnbextension~=3.5.0->ipywidgets==7.5.1->contextualized-topic-models==2.2.0) (0.5.4)\n",
      "Requirement already satisfied: testpath in /home/joon/.local/lib/python3.6/site-packages (from nbconvert->notebook>=4.4.1->widgetsnbextension~=3.5.0->ipywidgets==7.5.1->contextualized-topic-models==2.2.0) (0.5.0)\n",
      "Requirement already satisfied: mistune<2,>=0.8.1 in /home/joon/.local/lib/python3.6/site-packages (from nbconvert->notebook>=4.4.1->widgetsnbextension~=3.5.0->ipywidgets==7.5.1->contextualized-topic-models==2.2.0) (0.8.4)\n",
      "Requirement already satisfied: pycparser in /home/joon/.local/lib/python3.6/site-packages (from cffi>=1.0.0->argon2-cffi->notebook>=4.4.1->widgetsnbextension~=3.5.0->ipywidgets==7.5.1->contextualized-topic-models==2.2.0) (2.20)\n",
      "Requirement already satisfied: async-generator in /home/joon/.local/lib/python3.6/site-packages (from nbclient<0.6.0,>=0.5.0->nbconvert->notebook>=4.4.1->widgetsnbextension~=3.5.0->ipywidgets==7.5.1->contextualized-topic-models==2.2.0) (1.10)\n",
      "Requirement already satisfied: webencodings in /home/joon/.local/lib/python3.6/site-packages (from bleach->nbconvert->notebook>=4.4.1->widgetsnbextension~=3.5.0->ipywidgets==7.5.1->contextualized-topic-models==2.2.0) (0.5.1)\n"
     ]
    }
   ],
   "source": [
    "!pip install contextualized-topic-models==2.2.0"
   ]
  },
  {
   "cell_type": "code",
   "execution_count": 3,
   "id": "dcc29906",
   "metadata": {},
   "outputs": [
    {
     "name": "stdout",
     "output_type": "stream",
     "text": [
      "Defaulting to user installation because normal site-packages is not writeable\n",
      "Requirement already satisfied: pyldavis in /home/joon/.local/lib/python3.6/site-packages (3.2.2)\n",
      "Requirement already satisfied: wheel>=0.23.0 in /home/joon/.local/lib/python3.6/site-packages (from pyldavis) (0.37.0)\n",
      "Requirement already satisfied: future in /usr/lib/python3/dist-packages (from pyldavis) (0.15.2)\n",
      "Requirement already satisfied: funcy in /home/joon/.local/lib/python3.6/site-packages (from pyldavis) (2.0)\n",
      "Requirement already satisfied: numexpr in /usr/lib/python3/dist-packages (from pyldavis) (2.6.4)\n",
      "Requirement already satisfied: numpy>=1.9.2 in /home/joon/.local/lib/python3.6/site-packages (from pyldavis) (1.19.5)\n",
      "Requirement already satisfied: pandas>=0.17.0 in /home/joon/.local/lib/python3.6/site-packages (from pyldavis) (1.1.5)\n",
      "Requirement already satisfied: jinja2>=2.7.2 in /home/joon/.local/lib/python3.6/site-packages (from pyldavis) (3.0.1)\n",
      "Requirement already satisfied: scipy>=0.18.0 in /home/joon/.local/lib/python3.6/site-packages (from pyldavis) (1.5.4)\n",
      "Requirement already satisfied: joblib>=0.8.4 in /home/joon/.local/lib/python3.6/site-packages (from pyldavis) (1.0.1)\n",
      "Requirement already satisfied: MarkupSafe>=2.0 in /home/joon/.local/lib/python3.6/site-packages (from jinja2>=2.7.2->pyldavis) (2.0.1)\n",
      "Requirement already satisfied: python-dateutil>=2.7.3 in /home/joon/.local/lib/python3.6/site-packages (from pandas>=0.17.0->pyldavis) (2.8.2)\n",
      "Requirement already satisfied: pytz>=2017.2 in /usr/lib/python3/dist-packages (from pandas>=0.17.0->pyldavis) (2018.3)\n",
      "Requirement already satisfied: six>=1.5 in /home/joon/.local/lib/python3.6/site-packages (from python-dateutil>=2.7.3->pandas>=0.17.0->pyldavis) (1.16.0)\n"
     ]
    }
   ],
   "source": [
    "!pip install pyldavis"
   ]
  },
  {
   "cell_type": "code",
   "execution_count": 21,
   "id": "9f126105",
   "metadata": {},
   "outputs": [],
   "source": [
    "text_file = \"2016-10-20.txt\""
   ]
  },
  {
   "cell_type": "code",
   "execution_count": 22,
   "id": "ef30fdcc",
   "metadata": {},
   "outputs": [],
   "source": [
    "from contextualized_topic_models.models.ctm import CombinedTM\n",
    "from contextualized_topic_models.utils.data_preparation import TopicModelDataPreparation, bert_embeddings_from_list\n",
    "from contextualized_topic_models.utils.preprocessing import WhiteSpacePreprocessing\n",
    "from sklearn.feature_extraction.text import CountVectorizer\n",
    "from konlpy.tag import Mecab\n",
    "from tqdm import tqdm"
   ]
  },
  {
   "cell_type": "code",
   "execution_count": 23,
   "id": "a5a687a8",
   "metadata": {},
   "outputs": [],
   "source": [
    "documents = [line.strip() for line in open(text_file, encoding=\"utf-8\").readlines()]"
   ]
  },
  {
   "cell_type": "code",
   "execution_count": 24,
   "id": "cc9eb445",
   "metadata": {},
   "outputs": [
    {
     "data": {
      "text/plain": [
       "['',\n",
       " '19  1990  52 1 22',\n",
       " '오패산터널 총격전 용의자 검거 서울 연합뉴스 경찰 관계자들이 19일 오후 서울 강북구 오패산 터널 인근에서 사제 총기를 발사해 경찰을 살해한 용의자 성모씨를 검거하고 있다 성씨는 검거 당시 서바이벌 게임에서 쓰는 방탄조끼에 헬멧까지 착용한 상태였다 독자제공 영상 캡처 연합뉴스  서울 연합뉴스 김은경 기자 사제 총기로 경찰을 살해한 범인 성모 46 씨는 주도면밀했다  경찰에 따르면 성씨는 19일 오후 강북경찰서 인근 부동산 업소 밖에서 부동산업자 이모 67 씨가 나오기를 기다렸다 이씨와는 평소에도 말다툼을 자주 한 것으로 알려졌다  이씨가 나와 걷기 시작하자 성씨는 따라가면서 미리 준비해온 사제 총기를 이씨에게 발사했다 총알이 빗나가면서 이씨는 도망갔다 그 빗나간 총알은 지나가던 행인 71 씨의 배를 스쳤다  성씨는 강북서 인근 치킨집까지 이씨 뒤를 쫓으며 실랑이하다 쓰러뜨린 후 총기와 함께 가져온 망치로 이씨 머리를 때렸다  이 과정에서 오후 6시 20분께 강북구 번동 길 위에서 사람들이 싸우고 있다 총소리가 났다 는 등의 신고가 여러건 들어왔다  5분 후에 성씨의 전자발찌가 훼손됐다는 신고가 보호관찰소 시스템을 통해 들어왔다 성범죄자로 전자발찌를 차고 있던 성씨는 부엌칼로 직접 자신의 발찌를 끊었다  용의자 소지 사제총기 2정 서울 연합뉴스 임헌정 기자 서울 시내에서 폭행 용의자가 현장 조사를 벌이던 경찰관에게 사제총기를 발사해 경찰관이 숨졌다 19일 오후 6시28분 강북구 번동에서 둔기로 맞았다 는 폭행 피해 신고가 접수돼 현장에서 조사하던 강북경찰서 번동파출소 소속 김모 54 경위가 폭행 용의자 성모 45 씨가 쏜 사제총기에 맞고 쓰러진 뒤 병원에 옮겨졌으나 숨졌다 사진은 용의자가 소지한 사제총기  신고를 받고 번동파출소에서 김창호 54 경위 등 경찰들이 오후 6시 29분께 현장으로 출동했다 성씨는 그사이 부동산 앞에 놓아뒀던 가방을 챙겨 오패산 쪽으로 도망간 후였다  김 경위는 오패산 터널 입구 오른쪽의 급경사에서 성씨에게 접근하다가 오후 6시 33분께 풀숲에 숨은 성씨가 허공에 난사한 10여발의 총알 중 일부를 왼쪽 어깨 뒷부분에 맞고 쓰러졌다  김 경위는 구급차가 도착했을 때 이미 의식이 없었고 심폐소생술을 하며 병원으로 옮겨졌으나 총알이 폐를 훼손해 오후 7시 40분께 사망했다  김 경위는 외근용 조끼를 입고 있었으나 총알을 막기에는 역부족이었다  머리에 부상을 입은 이씨도 함께 병원으로 이송됐으나 생명에는 지장이 없는 것으로 알려졌다  성씨는 오패산 터널 밑쪽 숲에서 오후 6시 45분께 잡혔다  총격현장 수색하는 경찰들 서울 연합뉴스 이효석 기자 19일 오후 서울 강북구 오패산 터널 인근에서 경찰들이 폭행 용의자가 사제총기를 발사해 경찰관이 사망한 사건을 조사 하고 있다  총 때문에 쫓던 경관들과 민간인들이 몸을 숨겼는데 인근 신발가게 직원 이모씨가 다가가 성씨를 덮쳤고 이어 현장에 있던 다른 상인들과 경찰이 가세해 체포했다  성씨는 경찰에 붙잡힌 직후 나 자살하려고 한 거다 맞아 죽어도 괜찮다 고 말한 것으로 전해졌다  성씨 자신도 경찰이 발사한 공포탄 1발 실탄 3발 중 실탄 1발을 배에 맞았으나 방탄조끼를 입은 상태여서 부상하지는 않았다  경찰은 인근을 수색해 성씨가 만든 사제총 16정과 칼 7개를 압수했다 실제 폭발할지는 알 수 없는 요구르트병에 무언가를 채워두고 심지를 꽂은 사제 폭탄도 발견됐다  일부는 숲에서 발견됐고 일부는 성씨가 소지한 가방 안에 있었다',\n",
       " '테헤란 연합뉴스 강훈상 특파원 이용 승객수 기준 세계 최대 공항인 아랍에미리트 두바이국제공항은 19일 현지시간 이 공항을 이륙하는 모든 항공기의 탑승객은 삼성전자의 갤럭시노트7을 휴대하면 안 된다고 밝혔다  두바이국제공항은 여러 항공 관련 기구의 권고에 따라 안전성에 우려가 있는 스마트폰 갤럭시노트7을 휴대하고 비행기를 타면 안 된다 며 탑승 전 검색 중 발견되면 압수할 계획 이라고 발표했다  공항 측은 갤럭시노트7의 배터리가 폭발 우려가 제기된 만큼 이 제품을 갖고 공항 안으로 들어오지 말라고 이용객에 당부했다  이런 조치는 두바이국제공항 뿐 아니라 신공항인 두바이월드센터에도 적용된다  배터리 폭발문제로 회수된 갤럭시노트7 연합뉴스자료사진',\n",
       " '브뤼셀 연합뉴스 김병수 특파원 독일 정부는 19일 원자력발전소를 폐쇄하기로 함에 따라 원자력 발전소 운영자들에게 핵폐기물 처리를 지원하는 펀드에 235억 유로 260억 달러 29조 원 를 지불하도록 하는 계획을 승인했다고 언론들이 보도했다  앞서 독일은 5년 전 일본 후쿠시마 원전사태 이후 오는 2022년까지 원전 17기를 모두 폐쇄하기로 하고 오는 2050년까지 전기생산량의 80 를 재생에너지로 충당하는 것을 목표로 세웠다  이날 내각을 통과한 법안은 원전 운영자들이 원전 해체와 핵폐기물 처리를 위한 포장을 책임지고 정부는 핵폐기물 보관을 책임지도록 했다  독일 경제부는 전력회사들과 공식적인 접촉은 아직 합의되지 않았다고 밝혔다  독일 원자력 발전소 연합뉴스 자료사진']"
      ]
     },
     "execution_count": 24,
     "metadata": {},
     "output_type": "execute_result"
    }
   ],
   "source": [
    "documents[:5]"
   ]
  },
  {
   "cell_type": "code",
   "execution_count": 25,
   "id": "580503e2",
   "metadata": {},
   "outputs": [
    {
     "data": {
      "text/plain": [
       "False"
      ]
     },
     "execution_count": 25,
     "metadata": {},
     "output_type": "execute_result"
    }
   ],
   "source": [
    "not '19  1990  52 1 22'.replace(' ', '').isdecimal()"
   ]
  },
  {
   "cell_type": "code",
   "execution_count": 26,
   "id": "e82949e1",
   "metadata": {},
   "outputs": [
    {
     "name": "stderr",
     "output_type": "stream",
     "text": [
      "\n",
      "  0%|          | 0/30091 [00:00<?, ?it/s]\u001b[A\n",
      " 38%|███▊      | 11493/30091 [00:00<00:00, 114904.63it/s]\u001b[A\n",
      "100%|██████████| 30091/30091 [00:00<00:00, 140677.51it/s]\u001b[A\n"
     ]
    }
   ],
   "source": [
    "preprocessed_documents = []\n",
    "\n",
    "for line in tqdm(documents):\n",
    "  # 빈 문자열이거나 숫자로만 이루어진 줄은 제외\n",
    "  if line and not line.replace(' ', '').isdecimal():\n",
    "    preprocessed_documents.append(line)"
   ]
  },
  {
   "cell_type": "code",
   "execution_count": 43,
   "id": "f3ecad44",
   "metadata": {},
   "outputs": [
    {
     "name": "stdout",
     "output_type": "stream",
     "text": [
      "앵커  박근혜 대통령이 오늘 미르 스포츠 이 두 재단에 대해서 언급하자 검찰이 이제 좀 움직이는 것 같습니다 검찰은 두 재단관계자들에 대한 영장을 발부받아 통화 내역 추적에 들어갔습니다 실세로 의심받는 최순실씨는 독일로 출국한 것으로 보입니다  최우정 기자의 보도입니다  리포트  미르 스포츠 재단 관련 고발 사건을 수사 중인 검찰은 최근 최순실씨가 독일로 출국한 사실을 확인한 것으로 알려졌습니다  검찰은 최씨가 독일에서 생활해 온 딸 정유라 씨와 함께 있을 가능성이 높은 것으로 보고 있습니다  하지만 유럽연합 내 이동이 자유로운 만큼 다른 지역이나 미국 등지로 옮겼을 가능성도 배제하지 않고 있습니다  최씨의 위치를 파악한 뒤엔 직접 불러 조사할 가능성도 있는 것으로 알려졌습니다 검찰은 오늘 시민단체 고발장이 접수된 지 약 3주 만에 문체부 관계자들을 소환 조사했습니다  수사팀은 문체부 국장급 관계자 2명을 참고인으로 불러 미르재단 설립 경위 등을 물었습니다  검찰은 최근 수사검사를 2명에서 4명 이상으로 늘린 것으로 알려졌습니다  검찰은 사건을 특수부가 아닌 형사8부로 배당하고 수사팀 규모마저 작게 꾸려 미르 스포츠재단 수사의지가 없다는 비판을 받아 왔습니다  조선 최우정입니다  최우정 기자  뉴스제보 홈페이지 카카오톡 조선제보 전화 1661 0190  최우정 기자  조선 무단전재 및 재배포 금지\n"
     ]
    }
   ],
   "source": [
    "print(preprocessed_documents[27001])"
   ]
  },
  {
   "cell_type": "code",
   "execution_count": 28,
   "id": "ef69c7c8",
   "metadata": {},
   "outputs": [],
   "source": [
    "class CustomTokenizer:\n",
    "    def __init__(self, tagger):\n",
    "        self.tagger = tagger\n",
    "    def __call__(self, sent):\n",
    "        word_tokens = self.tagger.morphs(sent)\n",
    "        result = [word for word in word_tokens if len(word) > 1]\n",
    "        return result"
   ]
  },
  {
   "cell_type": "code",
   "execution_count": 29,
   "id": "9d2bf197",
   "metadata": {},
   "outputs": [],
   "source": [
    "custom_tokenizer = CustomTokenizer(Mecab())"
   ]
  },
  {
   "cell_type": "code",
   "execution_count": 30,
   "id": "77ba71e4",
   "metadata": {},
   "outputs": [],
   "source": [
    "vectorizer = CountVectorizer(tokenizer=custom_tokenizer, max_features=3000)"
   ]
  },
  {
   "cell_type": "code",
   "execution_count": 31,
   "id": "ecd6398b",
   "metadata": {},
   "outputs": [],
   "source": [
    "train_bow_embeddings = vectorizer.fit_transform(preprocessed_documents)"
   ]
  },
  {
   "cell_type": "code",
   "execution_count": 32,
   "id": "bedf3a0b",
   "metadata": {},
   "outputs": [
    {
     "name": "stdout",
     "output_type": "stream",
     "text": [
      "(27540, 3000)\n"
     ]
    }
   ],
   "source": [
    "print(train_bow_embeddings.shape)"
   ]
  },
  {
   "cell_type": "code",
   "execution_count": 16,
   "id": "e181cdd4",
   "metadata": {},
   "outputs": [],
   "source": [
    "vocab = vectorizer.get_feature_names()\n",
    "id2token = {k: v for k, v in zip(range(0, len(vocab)), vocab)}"
   ]
  },
  {
   "cell_type": "code",
   "execution_count": 17,
   "id": "fbd7a1ed",
   "metadata": {},
   "outputs": [
    {
     "data": {
      "text/plain": [
       "1013"
      ]
     },
     "execution_count": 17,
     "metadata": {},
     "output_type": "execute_result"
    }
   ],
   "source": [
    "len(vocab)"
   ]
  },
  {
   "cell_type": "code",
   "execution_count": 18,
   "id": "23778baa",
   "metadata": {},
   "outputs": [
    {
     "data": {
      "application/vnd.jupyter.widget-view+json": {
       "model_id": "69f96c0d687c4f37a6585e1972fbb210",
       "version_major": 2,
       "version_minor": 0
      },
      "text/plain": [
       "Batches:   0%|          | 0/1 [00:00<?, ?it/s]"
      ]
     },
     "metadata": {},
     "output_type": "display_data"
    }
   ],
   "source": [
    "train_contextualized_embeddings = bert_embeddings_from_list(preprocessed_documents, \\\n",
    "                                                            \"sentence-transformers/xlm-r-100langs-bert-base-nli-stsb-mean-tokens\")"
   ]
  },
  {
   "cell_type": "code",
   "execution_count": 19,
   "id": "c774c7ce",
   "metadata": {},
   "outputs": [],
   "source": [
    "qt = TopicModelDataPreparation()\n",
    "\n",
    "training_dataset = qt.load(train_contextualized_embeddings, train_bow_embeddings, id2token)"
   ]
  },
  {
   "cell_type": "code",
   "execution_count": 20,
   "id": "6936e385",
   "metadata": {},
   "outputs": [
    {
     "name": "stderr",
     "output_type": "stream",
     "text": [
      "\r",
      "0it [00:00, ?it/s]"
     ]
    },
    {
     "ename": "ValueError",
     "evalue": "Expected more than 1 value per channel when training, got input size torch.Size([1, 50])",
     "output_type": "error",
     "traceback": [
      "\u001b[0;31m---------------------------------------------------------------------------\u001b[0m",
      "\u001b[0;31mValueError\u001b[0m                                Traceback (most recent call last)",
      "\u001b[0;32m<ipython-input-20-8c0142e82da2>\u001b[0m in \u001b[0;36m<module>\u001b[0;34m\u001b[0m\n\u001b[1;32m      1\u001b[0m \u001b[0mctm\u001b[0m \u001b[0;34m=\u001b[0m \u001b[0mCombinedTM\u001b[0m\u001b[0;34m(\u001b[0m\u001b[0mbow_size\u001b[0m\u001b[0;34m=\u001b[0m\u001b[0mlen\u001b[0m\u001b[0;34m(\u001b[0m\u001b[0mvocab\u001b[0m\u001b[0;34m)\u001b[0m\u001b[0;34m,\u001b[0m \u001b[0mcontextual_size\u001b[0m\u001b[0;34m=\u001b[0m\u001b[0;36m768\u001b[0m\u001b[0;34m,\u001b[0m \u001b[0mn_components\u001b[0m\u001b[0;34m=\u001b[0m\u001b[0;36m50\u001b[0m\u001b[0;34m,\u001b[0m \u001b[0mnum_epochs\u001b[0m\u001b[0;34m=\u001b[0m\u001b[0;36m20\u001b[0m\u001b[0;34m)\u001b[0m\u001b[0;34m\u001b[0m\u001b[0;34m\u001b[0m\u001b[0m\n\u001b[0;32m----> 2\u001b[0;31m \u001b[0mctm\u001b[0m\u001b[0;34m.\u001b[0m\u001b[0mfit\u001b[0m\u001b[0;34m(\u001b[0m\u001b[0mtraining_dataset\u001b[0m\u001b[0;34m)\u001b[0m\u001b[0;34m\u001b[0m\u001b[0;34m\u001b[0m\u001b[0m\n\u001b[0m",
      "\u001b[0;32m~/.local/lib/python3.6/site-packages/contextualized_topic_models/models/ctm.py\u001b[0m in \u001b[0;36mfit\u001b[0;34m(self, train_dataset, validation_dataset, save_dir, verbose, patience, delta)\u001b[0m\n\u001b[1;32m    269\u001b[0m             \u001b[0;31m# train epoch\u001b[0m\u001b[0;34m\u001b[0m\u001b[0;34m\u001b[0m\u001b[0;34m\u001b[0m\u001b[0m\n\u001b[1;32m    270\u001b[0m             \u001b[0ms\u001b[0m \u001b[0;34m=\u001b[0m \u001b[0mdatetime\u001b[0m\u001b[0;34m.\u001b[0m\u001b[0mdatetime\u001b[0m\u001b[0;34m.\u001b[0m\u001b[0mnow\u001b[0m\u001b[0;34m(\u001b[0m\u001b[0;34m)\u001b[0m\u001b[0;34m\u001b[0m\u001b[0;34m\u001b[0m\u001b[0m\n\u001b[0;32m--> 271\u001b[0;31m             \u001b[0msp\u001b[0m\u001b[0;34m,\u001b[0m \u001b[0mtrain_loss\u001b[0m \u001b[0;34m=\u001b[0m \u001b[0mself\u001b[0m\u001b[0;34m.\u001b[0m\u001b[0m_train_epoch\u001b[0m\u001b[0;34m(\u001b[0m\u001b[0mtrain_loader\u001b[0m\u001b[0;34m)\u001b[0m\u001b[0;34m\u001b[0m\u001b[0;34m\u001b[0m\u001b[0m\n\u001b[0m\u001b[1;32m    272\u001b[0m             \u001b[0msamples_processed\u001b[0m \u001b[0;34m+=\u001b[0m \u001b[0msp\u001b[0m\u001b[0;34m\u001b[0m\u001b[0;34m\u001b[0m\u001b[0m\n\u001b[1;32m    273\u001b[0m             \u001b[0me\u001b[0m \u001b[0;34m=\u001b[0m \u001b[0mdatetime\u001b[0m\u001b[0;34m.\u001b[0m\u001b[0mdatetime\u001b[0m\u001b[0;34m.\u001b[0m\u001b[0mnow\u001b[0m\u001b[0;34m(\u001b[0m\u001b[0;34m)\u001b[0m\u001b[0;34m\u001b[0m\u001b[0;34m\u001b[0m\u001b[0m\n",
      "\u001b[0;32m~/.local/lib/python3.6/site-packages/contextualized_topic_models/models/ctm.py\u001b[0m in \u001b[0;36m_train_epoch\u001b[0;34m(self, loader)\u001b[0m\n\u001b[1;32m    191\u001b[0m             \u001b[0mself\u001b[0m\u001b[0;34m.\u001b[0m\u001b[0mmodel\u001b[0m\u001b[0;34m.\u001b[0m\u001b[0mzero_grad\u001b[0m\u001b[0;34m(\u001b[0m\u001b[0;34m)\u001b[0m\u001b[0;34m\u001b[0m\u001b[0;34m\u001b[0m\u001b[0m\n\u001b[1;32m    192\u001b[0m             \u001b[0mprior_mean\u001b[0m\u001b[0;34m,\u001b[0m \u001b[0mprior_variance\u001b[0m\u001b[0;34m,\u001b[0m \u001b[0mposterior_mean\u001b[0m\u001b[0;34m,\u001b[0m \u001b[0mposterior_variance\u001b[0m\u001b[0;34m,\u001b[0m\u001b[0;31m\\\u001b[0m\u001b[0;34m\u001b[0m\u001b[0;34m\u001b[0m\u001b[0m\n\u001b[0;32m--> 193\u001b[0;31m             \u001b[0mposterior_log_variance\u001b[0m\u001b[0;34m,\u001b[0m \u001b[0mword_dists\u001b[0m\u001b[0;34m,\u001b[0m \u001b[0mestimated_labels\u001b[0m \u001b[0;34m=\u001b[0m \u001b[0mself\u001b[0m\u001b[0;34m.\u001b[0m\u001b[0mmodel\u001b[0m\u001b[0;34m(\u001b[0m\u001b[0mX_bow\u001b[0m\u001b[0;34m,\u001b[0m \u001b[0mX_contextual\u001b[0m\u001b[0;34m,\u001b[0m \u001b[0mlabels\u001b[0m\u001b[0;34m)\u001b[0m\u001b[0;34m\u001b[0m\u001b[0;34m\u001b[0m\u001b[0m\n\u001b[0m\u001b[1;32m    194\u001b[0m \u001b[0;34m\u001b[0m\u001b[0m\n\u001b[1;32m    195\u001b[0m             \u001b[0;31m# backward pass\u001b[0m\u001b[0;34m\u001b[0m\u001b[0;34m\u001b[0m\u001b[0;34m\u001b[0m\u001b[0m\n",
      "\u001b[0;32m~/.local/lib/python3.6/site-packages/torch/nn/modules/module.py\u001b[0m in \u001b[0;36m_call_impl\u001b[0;34m(self, *input, **kwargs)\u001b[0m\n\u001b[1;32m   1100\u001b[0m         if not (self._backward_hooks or self._forward_hooks or self._forward_pre_hooks or _global_backward_hooks\n\u001b[1;32m   1101\u001b[0m                 or _global_forward_hooks or _global_forward_pre_hooks):\n\u001b[0;32m-> 1102\u001b[0;31m             \u001b[0;32mreturn\u001b[0m \u001b[0mforward_call\u001b[0m\u001b[0;34m(\u001b[0m\u001b[0;34m*\u001b[0m\u001b[0minput\u001b[0m\u001b[0;34m,\u001b[0m \u001b[0;34m**\u001b[0m\u001b[0mkwargs\u001b[0m\u001b[0;34m)\u001b[0m\u001b[0;34m\u001b[0m\u001b[0;34m\u001b[0m\u001b[0m\n\u001b[0m\u001b[1;32m   1103\u001b[0m         \u001b[0;31m# Do not call functions when jit is used\u001b[0m\u001b[0;34m\u001b[0m\u001b[0;34m\u001b[0m\u001b[0;34m\u001b[0m\u001b[0m\n\u001b[1;32m   1104\u001b[0m         \u001b[0mfull_backward_hooks\u001b[0m\u001b[0;34m,\u001b[0m \u001b[0mnon_full_backward_hooks\u001b[0m \u001b[0;34m=\u001b[0m \u001b[0;34m[\u001b[0m\u001b[0;34m]\u001b[0m\u001b[0;34m,\u001b[0m \u001b[0;34m[\u001b[0m\u001b[0;34m]\u001b[0m\u001b[0;34m\u001b[0m\u001b[0;34m\u001b[0m\u001b[0m\n",
      "\u001b[0;32m~/.local/lib/python3.6/site-packages/contextualized_topic_models/networks/decoding_network.py\u001b[0m in \u001b[0;36mforward\u001b[0;34m(self, x, x_bert, labels)\u001b[0m\n\u001b[1;32m     99\u001b[0m         \u001b[0;34m\"\"\"Forward pass.\"\"\"\u001b[0m\u001b[0;34m\u001b[0m\u001b[0;34m\u001b[0m\u001b[0m\n\u001b[1;32m    100\u001b[0m         \u001b[0;31m# batch_size x n_components\u001b[0m\u001b[0;34m\u001b[0m\u001b[0;34m\u001b[0m\u001b[0;34m\u001b[0m\u001b[0m\n\u001b[0;32m--> 101\u001b[0;31m         \u001b[0mposterior_mu\u001b[0m\u001b[0;34m,\u001b[0m \u001b[0mposterior_log_sigma\u001b[0m \u001b[0;34m=\u001b[0m \u001b[0mself\u001b[0m\u001b[0;34m.\u001b[0m\u001b[0minf_net\u001b[0m\u001b[0;34m(\u001b[0m\u001b[0mx\u001b[0m\u001b[0;34m,\u001b[0m \u001b[0mx_bert\u001b[0m\u001b[0;34m,\u001b[0m \u001b[0mlabels\u001b[0m\u001b[0;34m)\u001b[0m\u001b[0;34m\u001b[0m\u001b[0;34m\u001b[0m\u001b[0m\n\u001b[0m\u001b[1;32m    102\u001b[0m         \u001b[0mposterior_sigma\u001b[0m \u001b[0;34m=\u001b[0m \u001b[0mtorch\u001b[0m\u001b[0;34m.\u001b[0m\u001b[0mexp\u001b[0m\u001b[0;34m(\u001b[0m\u001b[0mposterior_log_sigma\u001b[0m\u001b[0;34m)\u001b[0m\u001b[0;34m\u001b[0m\u001b[0;34m\u001b[0m\u001b[0m\n\u001b[1;32m    103\u001b[0m \u001b[0;34m\u001b[0m\u001b[0m\n",
      "\u001b[0;32m~/.local/lib/python3.6/site-packages/torch/nn/modules/module.py\u001b[0m in \u001b[0;36m_call_impl\u001b[0;34m(self, *input, **kwargs)\u001b[0m\n\u001b[1;32m   1100\u001b[0m         if not (self._backward_hooks or self._forward_hooks or self._forward_pre_hooks or _global_backward_hooks\n\u001b[1;32m   1101\u001b[0m                 or _global_forward_hooks or _global_forward_pre_hooks):\n\u001b[0;32m-> 1102\u001b[0;31m             \u001b[0;32mreturn\u001b[0m \u001b[0mforward_call\u001b[0m\u001b[0;34m(\u001b[0m\u001b[0;34m*\u001b[0m\u001b[0minput\u001b[0m\u001b[0;34m,\u001b[0m \u001b[0;34m**\u001b[0m\u001b[0mkwargs\u001b[0m\u001b[0;34m)\u001b[0m\u001b[0;34m\u001b[0m\u001b[0;34m\u001b[0m\u001b[0m\n\u001b[0m\u001b[1;32m   1103\u001b[0m         \u001b[0;31m# Do not call functions when jit is used\u001b[0m\u001b[0;34m\u001b[0m\u001b[0;34m\u001b[0m\u001b[0;34m\u001b[0m\u001b[0m\n\u001b[1;32m   1104\u001b[0m         \u001b[0mfull_backward_hooks\u001b[0m\u001b[0;34m,\u001b[0m \u001b[0mnon_full_backward_hooks\u001b[0m \u001b[0;34m=\u001b[0m \u001b[0;34m[\u001b[0m\u001b[0;34m]\u001b[0m\u001b[0;34m,\u001b[0m \u001b[0;34m[\u001b[0m\u001b[0;34m]\u001b[0m\u001b[0;34m\u001b[0m\u001b[0;34m\u001b[0m\u001b[0m\n",
      "\u001b[0;32m~/.local/lib/python3.6/site-packages/contextualized_topic_models/networks/inference_network.py\u001b[0m in \u001b[0;36mforward\u001b[0;34m(self, x, x_bert, labels)\u001b[0m\n\u001b[1;32m    139\u001b[0m         \u001b[0mx\u001b[0m \u001b[0;34m=\u001b[0m \u001b[0mself\u001b[0m\u001b[0;34m.\u001b[0m\u001b[0mhiddens\u001b[0m\u001b[0;34m(\u001b[0m\u001b[0mx\u001b[0m\u001b[0;34m)\u001b[0m\u001b[0;34m\u001b[0m\u001b[0;34m\u001b[0m\u001b[0m\n\u001b[1;32m    140\u001b[0m         \u001b[0mx\u001b[0m \u001b[0;34m=\u001b[0m \u001b[0mself\u001b[0m\u001b[0;34m.\u001b[0m\u001b[0mdropout_enc\u001b[0m\u001b[0;34m(\u001b[0m\u001b[0mx\u001b[0m\u001b[0;34m)\u001b[0m\u001b[0;34m\u001b[0m\u001b[0;34m\u001b[0m\u001b[0m\n\u001b[0;32m--> 141\u001b[0;31m         \u001b[0mmu\u001b[0m \u001b[0;34m=\u001b[0m \u001b[0mself\u001b[0m\u001b[0;34m.\u001b[0m\u001b[0mf_mu_batchnorm\u001b[0m\u001b[0;34m(\u001b[0m\u001b[0mself\u001b[0m\u001b[0;34m.\u001b[0m\u001b[0mf_mu\u001b[0m\u001b[0;34m(\u001b[0m\u001b[0mx\u001b[0m\u001b[0;34m)\u001b[0m\u001b[0;34m)\u001b[0m\u001b[0;34m\u001b[0m\u001b[0;34m\u001b[0m\u001b[0m\n\u001b[0m\u001b[1;32m    142\u001b[0m         \u001b[0mlog_sigma\u001b[0m \u001b[0;34m=\u001b[0m \u001b[0mself\u001b[0m\u001b[0;34m.\u001b[0m\u001b[0mf_sigma_batchnorm\u001b[0m\u001b[0;34m(\u001b[0m\u001b[0mself\u001b[0m\u001b[0;34m.\u001b[0m\u001b[0mf_sigma\u001b[0m\u001b[0;34m(\u001b[0m\u001b[0mx\u001b[0m\u001b[0;34m)\u001b[0m\u001b[0;34m)\u001b[0m\u001b[0;34m\u001b[0m\u001b[0;34m\u001b[0m\u001b[0m\n\u001b[1;32m    143\u001b[0m \u001b[0;34m\u001b[0m\u001b[0m\n",
      "\u001b[0;32m~/.local/lib/python3.6/site-packages/torch/nn/modules/module.py\u001b[0m in \u001b[0;36m_call_impl\u001b[0;34m(self, *input, **kwargs)\u001b[0m\n\u001b[1;32m   1100\u001b[0m         if not (self._backward_hooks or self._forward_hooks or self._forward_pre_hooks or _global_backward_hooks\n\u001b[1;32m   1101\u001b[0m                 or _global_forward_hooks or _global_forward_pre_hooks):\n\u001b[0;32m-> 1102\u001b[0;31m             \u001b[0;32mreturn\u001b[0m \u001b[0mforward_call\u001b[0m\u001b[0;34m(\u001b[0m\u001b[0;34m*\u001b[0m\u001b[0minput\u001b[0m\u001b[0;34m,\u001b[0m \u001b[0;34m**\u001b[0m\u001b[0mkwargs\u001b[0m\u001b[0;34m)\u001b[0m\u001b[0;34m\u001b[0m\u001b[0;34m\u001b[0m\u001b[0m\n\u001b[0m\u001b[1;32m   1103\u001b[0m         \u001b[0;31m# Do not call functions when jit is used\u001b[0m\u001b[0;34m\u001b[0m\u001b[0;34m\u001b[0m\u001b[0;34m\u001b[0m\u001b[0m\n\u001b[1;32m   1104\u001b[0m         \u001b[0mfull_backward_hooks\u001b[0m\u001b[0;34m,\u001b[0m \u001b[0mnon_full_backward_hooks\u001b[0m \u001b[0;34m=\u001b[0m \u001b[0;34m[\u001b[0m\u001b[0;34m]\u001b[0m\u001b[0;34m,\u001b[0m \u001b[0;34m[\u001b[0m\u001b[0;34m]\u001b[0m\u001b[0;34m\u001b[0m\u001b[0;34m\u001b[0m\u001b[0m\n",
      "\u001b[0;32m~/.local/lib/python3.6/site-packages/torch/nn/modules/batchnorm.py\u001b[0m in \u001b[0;36mforward\u001b[0;34m(self, input)\u001b[0m\n\u001b[1;32m    177\u001b[0m             \u001b[0mbn_training\u001b[0m\u001b[0;34m,\u001b[0m\u001b[0;34m\u001b[0m\u001b[0;34m\u001b[0m\u001b[0m\n\u001b[1;32m    178\u001b[0m             \u001b[0mexponential_average_factor\u001b[0m\u001b[0;34m,\u001b[0m\u001b[0;34m\u001b[0m\u001b[0;34m\u001b[0m\u001b[0m\n\u001b[0;32m--> 179\u001b[0;31m             \u001b[0mself\u001b[0m\u001b[0;34m.\u001b[0m\u001b[0meps\u001b[0m\u001b[0;34m,\u001b[0m\u001b[0;34m\u001b[0m\u001b[0;34m\u001b[0m\u001b[0m\n\u001b[0m\u001b[1;32m    180\u001b[0m         )\n\u001b[1;32m    181\u001b[0m \u001b[0;34m\u001b[0m\u001b[0m\n",
      "\u001b[0;32m~/.local/lib/python3.6/site-packages/torch/nn/functional.py\u001b[0m in \u001b[0;36mbatch_norm\u001b[0;34m(input, running_mean, running_var, weight, bias, training, momentum, eps)\u001b[0m\n\u001b[1;32m   2278\u001b[0m         )\n\u001b[1;32m   2279\u001b[0m     \u001b[0;32mif\u001b[0m \u001b[0mtraining\u001b[0m\u001b[0;34m:\u001b[0m\u001b[0;34m\u001b[0m\u001b[0;34m\u001b[0m\u001b[0m\n\u001b[0;32m-> 2280\u001b[0;31m         \u001b[0m_verify_batch_size\u001b[0m\u001b[0;34m(\u001b[0m\u001b[0minput\u001b[0m\u001b[0;34m.\u001b[0m\u001b[0msize\u001b[0m\u001b[0;34m(\u001b[0m\u001b[0;34m)\u001b[0m\u001b[0;34m)\u001b[0m\u001b[0;34m\u001b[0m\u001b[0;34m\u001b[0m\u001b[0m\n\u001b[0m\u001b[1;32m   2281\u001b[0m \u001b[0;34m\u001b[0m\u001b[0m\n\u001b[1;32m   2282\u001b[0m     return torch.batch_norm(\n",
      "\u001b[0;32m~/.local/lib/python3.6/site-packages/torch/nn/functional.py\u001b[0m in \u001b[0;36m_verify_batch_size\u001b[0;34m(size)\u001b[0m\n\u001b[1;32m   2246\u001b[0m         \u001b[0msize_prods\u001b[0m \u001b[0;34m*=\u001b[0m \u001b[0msize\u001b[0m\u001b[0;34m[\u001b[0m\u001b[0mi\u001b[0m \u001b[0;34m+\u001b[0m \u001b[0;36m2\u001b[0m\u001b[0;34m]\u001b[0m\u001b[0;34m\u001b[0m\u001b[0;34m\u001b[0m\u001b[0m\n\u001b[1;32m   2247\u001b[0m     \u001b[0;32mif\u001b[0m \u001b[0msize_prods\u001b[0m \u001b[0;34m==\u001b[0m \u001b[0;36m1\u001b[0m\u001b[0;34m:\u001b[0m\u001b[0;34m\u001b[0m\u001b[0;34m\u001b[0m\u001b[0m\n\u001b[0;32m-> 2248\u001b[0;31m         \u001b[0;32mraise\u001b[0m \u001b[0mValueError\u001b[0m\u001b[0;34m(\u001b[0m\u001b[0;34m\"Expected more than 1 value per channel when training, got input size {}\"\u001b[0m\u001b[0;34m.\u001b[0m\u001b[0mformat\u001b[0m\u001b[0;34m(\u001b[0m\u001b[0msize\u001b[0m\u001b[0;34m)\u001b[0m\u001b[0;34m)\u001b[0m\u001b[0;34m\u001b[0m\u001b[0;34m\u001b[0m\u001b[0m\n\u001b[0m\u001b[1;32m   2249\u001b[0m \u001b[0;34m\u001b[0m\u001b[0m\n\u001b[1;32m   2250\u001b[0m \u001b[0;34m\u001b[0m\u001b[0m\n",
      "\u001b[0;31mValueError\u001b[0m: Expected more than 1 value per channel when training, got input size torch.Size([1, 50])"
     ]
    }
   ],
   "source": [
    "ctm = CombinedTM(bow_size=len(vocab), contextual_size=768, n_components=50, num_epochs=20)\n",
    "ctm.fit(training_dataset)"
   ]
  },
  {
   "cell_type": "code",
   "execution_count": null,
   "id": "77f56c65",
   "metadata": {},
   "outputs": [],
   "source": [
    "ctm.get_topic_lists(10)"
   ]
  },
  {
   "cell_type": "code",
   "execution_count": null,
   "id": "31f0df8d",
   "metadata": {},
   "outputs": [],
   "source": [
    "ctm.get_topics(10)"
   ]
  },
  {
   "cell_type": "code",
   "execution_count": null,
   "id": "ddd13208",
   "metadata": {},
   "outputs": [],
   "source": [
    "# 시각화\n",
    "import pyLDAvis as vis\n",
    "\n",
    "lda_vis_data = ctm.get_ldavis_data_format(vocab, training_dataset, n_samples=10)\n",
    "\n",
    "ctm_pd = vis.prepare(**lda_vis_data)\n",
    "vis.display(ctm_pd)"
   ]
  },
  {
   "cell_type": "code",
   "execution_count": null,
   "id": "dd2ad19a",
   "metadata": {},
   "outputs": [],
   "source": [
    "# 예측\n",
    "import numpy as np\n",
    "\n",
    "topics_predictions = ctm.get_thetas(training_dataset, n_samples=5)"
   ]
  },
  {
   "cell_type": "code",
   "execution_count": null,
   "id": "85c5a3c2",
   "metadata": {},
   "outputs": [],
   "source": [
    "# 전처리 첫 번째 문서\n",
    "print(preprocessed_documents[0])"
   ]
  },
  {
   "cell_type": "code",
   "execution_count": null,
   "id": "8eeb7fd1",
   "metadata": {},
   "outputs": [],
   "source": [
    "# 모델 저장 및 로드\n",
    "ctm.save(models_dir=\"./\")\n",
    "del ctm\n",
    "\n",
    "ctm = CombinedTM(bow_size=len(vocab), contextual_size=768, num_epochs=100, n_components=50)\n",
    "ctm.load(\"/content/contextualized_topic_model_nc_50_tpm_0.0_tpv_0.98_hs_prodLDA_ac_(100, 100)_do_softplus_lr_0.2_mo_0.002_rp_0.99\",\n",
    "                                                                                                      epoch=19)"
   ]
  },
  {
   "cell_type": "code",
   "execution_count": null,
   "id": "0f2d6b4c",
   "metadata": {},
   "outputs": [],
   "source": [
    "ctm.get_topics(5)"
   ]
  }
 ],
 "metadata": {
  "kernelspec": {
   "display_name": "Python 3",
   "language": "python",
   "name": "python3"
  },
  "language_info": {
   "codemirror_mode": {
    "name": "ipython",
    "version": 3
   },
   "file_extension": ".py",
   "mimetype": "text/x-python",
   "name": "python",
   "nbconvert_exporter": "python",
   "pygments_lexer": "ipython3",
   "version": "3.6.9"
  }
 },
 "nbformat": 4,
 "nbformat_minor": 5
}
